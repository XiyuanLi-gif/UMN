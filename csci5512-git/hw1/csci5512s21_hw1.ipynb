{
 "cells": [
  {
   "cell_type": "markdown",
   "metadata": {
    "id": "ss6r9a5qur_U"
   },
   "source": [
    "# CSCi 5512 : Artificial Intelligence II - Assignment 1\n",
    "<bold><font color='red'> Due Date: Feb 5, 2021 </font></bold>\n",
    "\n",
    "## Instructions\n",
    "1. It is an individual submission assignment. You are encouraged to talk to others but it must be your own work.\n",
    "2. Show your work. Submissions without explanation or steps to arrive at the answer will NOT receive full credit.\n",
    "3. Submit the notebook after successfuly running the code. We should be able to see your results. You can expect that python 3, numpy, pandas are available. No other packages are allowed.\n",
    "\n",
    "## Topics in this assignment\n",
    "* Probablity, Uncertainty\n",
    "(Refer the lecture video links in the course schedule)"
   ]
  },
  {
   "cell_type": "markdown",
   "metadata": {
    "id": "8atB257_ur_a"
   },
   "source": [
    "## Written Problems"
   ]
  },
  {
   "cell_type": "markdown",
   "metadata": {
    "deletable": false,
    "id": "mCwl_yB5ur_b"
   },
   "source": [
    "### Problem 1 (Basic Probability) (10 Points)\n",
    "\n",
    "Consider the domain of rolling 5 different colored 12 sided dice. a. How many atomic events are there in the joint distribution (i.e. how many 5-dice combinations are there)? b. What is the probability of each atomic event? c. What is the probability of rolling a “full house” (3 of 1 number 2 of another)? What is the probability of four of a kind?"
   ]
  },
  {
   "cell_type": "markdown",
   "metadata": {
    "id": "EUjF7eAWur_b"
   },
   "source": [
    "[Your Answer here]\n",
    "### a.  \n",
    "There are $12^5$=248832 atomic events. \n",
    "### b.\n",
    "The probability of each atomic event is $$(\\frac{1}{12})^5=\\frac{1}{248832}$$\n",
    "### c.\n",
    "$$C^3_5*12*(\\frac{1}{12})^3*11*(\\frac{1}{12})^2=0.005304784$$\n",
    "$$C^4_5*12*(\\frac{1}{12})^4(\\frac{11}{12})=0.002652392$$\n",
    "Therefore, the probability of rolling a \"full house\" is 0.005304784, while the probability of four of a kind is 0.002652392."
   ]
  },
  {
   "cell_type": "markdown",
   "metadata": {
    "id": "Jx6KHZn8ur_c"
   },
   "source": [
    "### Problem 2 (Bayes) (20 Points)\n",
    "\n",
    "After your yearly checkup, the doctor has good news and bad news. The bad news is that you tested positive for a serious disease and that the test is very accurate: the probability of testing positive when you do have the disease is 0.998, and the probability of testing negative when you don’t have the disease is 0.965. The good news is that this is a rare disease, striking only one in ten thousand people in your demographic."
   ]
  },
  {
   "cell_type": "markdown",
   "metadata": {
    "id": "Ot8GxlTuur_c"
   },
   "source": [
    "a. Why is the rarity a cause for celebration? Briefly explain."
   ]
  },
  {
   "cell_type": "markdown",
   "metadata": {
    "id": "OaEx9ZELur_c"
   },
   "source": [
    "[Your Answer here]\n",
    "This is a good news since when the incidence of this disease is very low, which means that the test may make the second fault, which although your test are positive, you may not have the disease."
   ]
  },
  {
   "cell_type": "markdown",
   "metadata": {
    "id": "oH1FnxMlur_c"
   },
   "source": [
    "b. What are the chances you have the disease?"
   ]
  },
  {
   "cell_type": "markdown",
   "metadata": {
    "id": "M5Pe31lJur_d"
   },
   "source": [
    "[Your Answer here]\n",
    "Let A means that the test is positive, B means you have the disease.\n",
    "$$P(A|B)=0.998$$\n",
    "$$P(!A|!B)=0.965$$\n",
    "$$P(B)=0.0001$$\n",
    "$$P(B|A)=\\frac{P(A|B)P(B)}{P(A|B)P(B)+P(A|!B)P(!B)}=\\frac{0.998*0.0001}{0.998*0.0001+0.035*0.9999}=0.002843605$$"
   ]
  },
  {
   "cell_type": "markdown",
   "metadata": {
    "id": "bqDB3RQpur_d"
   },
   "source": [
    "c. What if you discover you have a genetic anomaly that changes your demographic to the disease striking one in ten – what are the chances you are diseased? Assume 10,000,000 people get tested, fill out the following table with the expected number of people to fall into each category.\n",
    "\n",
    "|              | Test positive | Test negative | Total      |\n",
    "| :---:        | :---:         | :---:         | :---:      |\n",
    "| Have disease |               |               |            |\n",
    "| Disease free |               |               |            |\n",
    "| Total        |               |               | 10,000,000 |"
   ]
  },
  {
   "cell_type": "markdown",
   "metadata": {
    "id": "RIQrpRVvur_d"
   },
   "source": [
    "[Your Answer here]\n",
    "$$P(B|A)=\\frac{P(A|B)P(B)}{P（A|B）P(B)+P(A|!B)P(!B)}=\\frac{0.998*0.1}{0.998*0.1+0.035*0.9}=0.7600914$$\n",
    "\n",
    "|              | Test positive | Test negative | Total      |\n",
    "| :---:        | :---:         | :---:         | :---:      |\n",
    "| Have disease |  998000          |     2000      |  1,000,000      |\n",
    "| Disease free |   315000        |     8,685,000    | 9,000,000       |\n",
    "| Total     | 1,313,000        |     8,687,000     | 10,000,000 |"
   ]
  },
  {
   "cell_type": "markdown",
   "metadata": {
    "id": "R83qCjfnur_d"
   },
   "source": [
    "### Problem 3 (25 Points)\n",
    "\n",
    "Three prisoners A, B and C are locked in their cells. It is common knowledge that one of them will be executed the next day and the others pardoned. Only the governor knows which one of them will be executed. Prisoner A asks the guard a favor: “Please ask the governor who will be executed and then take a message to one of my friends, B or C to let them know he will be pardoned in the morning.” The guard agrees."
   ]
  },
  {
   "cell_type": "markdown",
   "metadata": {
    "id": "azMaM-qyur_e"
   },
   "source": [
    "a. The guard comes back later and tells that he gave the pardon message to B – What are A’s chances of being executed, given this message (note: use Math to answer, not incoherent verbiage)."
   ]
  },
  {
   "cell_type": "markdown",
   "metadata": {
    "id": "78Q-oE_cur_e"
   },
   "source": [
    "[Your Answer here]\n",
    "Let A,B,C means that A,B and C be excuted.\n",
    "Let $A_P,B_P$ and $C_P$ be A,B and C be pardoned.\n",
    "$$P(A|B_P)=\\frac{P(B_P|A)P(A)}{P(B_P|A)P(A)+P(B_P|B)P(B)+P(B_P|C)P(C)}=\\frac{1/2*1/3}{1/2*1/3+0*1/3+1*1/3}=\\frac{1}{3}$$"
   ]
  },
  {
   "cell_type": "markdown",
   "metadata": {
    "id": "HbyP4CNeur_e"
   },
   "source": [
    "b. If we also know that the guard hates C, and will not give C the pardon message unless it is absolutely necessary – What are A’s chances of being executed given a pardon message to B? What are A’s chances of being executed if the pardon message were given to C?"
   ]
  },
  {
   "cell_type": "markdown",
   "metadata": {
    "id": "QFxOEiNdur_e"
   },
   "source": [
    "[Your Answer here]\n",
    "From the question. we can know that $P(B_P|A)=1$\n",
    "$$P(A|B_P)=\\frac{P(B_P|A)P(A)}{P(B_P|A)P(A)+P(B_P|B)P(B)+P(B_P|C)P(C)}=\\frac{1*1/3}{1*1/3+0*1/3+1*1/3}=\\frac{1}{2}$$"
   ]
  },
  {
   "cell_type": "markdown",
   "metadata": {
    "id": "4_mrRiPCur_e"
   },
   "source": [
    "### Problem 4 (25 Points)\n",
    "\n",
    "Suppose you have some kings. The kings are either tyrannical or benevolent in their behavior. Let B represent a random variable that represents the events { tyrannical, benevolent } . They also occasionally deposed by a revolution. Let D represent the Boolean random variable that deposed is true or false. Here's the joint count of observed events, out of 100 events:\n",
    "\n",
    "|                     | B=Tyrannical | B=Benevolent  |\n",
    "| :---:               | :---:        | :---:         |\n",
    "| Deposed D=True      |     22       |     22        |\n",
    "| Not Deposed D=False |     28       |     28        |\n",
    "\n",
    "So, as we can see, a king’s behavior doesn't have any influence about how long he reigns. But suppose we divide the kings up into charismatic and un charismatic as follows:\n",
    "\n",
    "#### Charismatic/Uncharishmatic\n",
    "|                     | Tyrannical   |   Benevolent  |\n",
    "| :---:               | :---:        | :---:         |\n",
    "| Deposed             |     16/6     |     2/20      |\n",
    "| Not Deposed         |     24/4     |     8/20      |\n"
   ]
  },
  {
   "cell_type": "markdown",
   "metadata": {
    "id": "C2_zR2c0ur_f"
   },
   "source": [
    "a. Use the conditionalized product rule $ P(X,Y|E) = P(X|Y,E) P(Y|E) $ to compute the conditional probability of being deposed, given his behavior $ P(D|B,E)$ and charisma, where E is a Boolean random variable representing his charisma."
   ]
  },
  {
   "cell_type": "markdown",
   "metadata": {
    "id": "Pjb4izFgur_f"
   },
   "source": [
    "[Your Answer here]\n",
    "$$P(D|B,E)=\\frac{P(D,B|E)}{P(B|E)}$$\n",
    "$$P(D=t|B=Tyr.,e=Ch.)=\\frac{16/50}{40/50}=\\frac{2}{5}$$\n",
    "$$P(D=t|B=Tyr.,e=UnCh.)=\\frac{6/50}{10/50}=\\frac{3}{5}$$\n",
    "$$P(D=t|B=Ben.,e=Ch.)=\\frac{2/50}{10/50}=\\frac{1}{5}$$\n",
    "$$P(D=t|B=Ben.,e=UnCh.)=\\frac{20/50}{40/50}=\\frac{1}{2}$$"
   ]
  },
  {
   "cell_type": "markdown",
   "metadata": {
    "id": "M7s6Wqz7ur_f"
   },
   "source": [
    "b. Here use the conditional form from a. to help the king make decisions (choice is benevolent or tyrannical). <br>\n",
    "i. If the king does not want to be deposed, should the king choose to be benevolent or tyrannical? Does it matter? <br>\n",
    "ii. Does his charisma affect the outcome of his choice? <br>\n",
    "iii. Does his charisma affect the outcome of his choice if the king does not know whether he is charismatic or not? \n",
    "\n",
    "Assume uncertainty about E means a prior probability of 0.5. Use Probability theory and the tables given to form your answer.\n",
    "\n",
    "(**Hint**: Condition on what you know, marginalize what you do not know)"
   ]
  },
  {
   "cell_type": "markdown",
   "metadata": {
    "id": "e4JuLGvUur_f"
   },
   "source": [
    "[Your Answer here]\n",
    "i.I think the king should be benevolent if he does not want to be deposed, since if E is fixed, $P(D=t|B=Tyr.,e=Ch.)>P(D=t|B=Ben.,e=Ch.)$ and $P(D=t|B=Tyr.,e=UnCh.)>P(D=t|B=Ben.,e=UnCh.)$. We can conclude that a benevolent king has less probability to be deposed.\n",
    "\n",
    "ii. Yes. the charisma affect the outcome of his choice. Since if B is fixed, $P(D=t|B=Tyr.,e=Ch.)<P(D=t|B=Tyr.,e=UnCh.)$ and $P(D=t|B=Ben.,e=Ch.)<P(D=t|B=Ben.,e=UnCh.)$. We can find that a charisma king has less probability to be deposed.\n",
    "\n",
    "iii. Since we don't know if the king is charismatic or not. We need to choose the first table. We find that whether the king is benevolent has no affect on whether will he be deposed. In that case, he could randomly choose whether to be benevolent, which means that his charisma doesn't affect the outcome of his choice.\n"
   ]
  },
  {
   "cell_type": "markdown",
   "metadata": {
    "id": "9HNd1FQKur_f"
   },
   "source": [
    "## Programming + Written Problems"
   ]
  },
  {
   "cell_type": "markdown",
   "metadata": {
    "id": "ix8lSnldur_g"
   },
   "source": [
    "### Problem 5 (20 Points)\n",
    "a). You are given a biased coin whose probability of giving Heads is p. You do not know what p is. How will you use this biased coin to simulate generation of samples from the equivalent to an unbiased coin whose probability of giving heads is 1 in 2? 1 in 3? The goal is to find a simple algorithm which can convert a sequence of tosses from a biased coin with an unknown bias into a sampler which returns unbiased samples of events with probability 0.5. Briefly explain your logic for both the cases.\n",
    "\n",
    "b). Write a python program which generates at least 10 unbiased samples of prob 1/2 for each of the biased coin flip probabilities [0.01, 0.1, 0.4]. Similarly, generate 10 unbiased samples of prob 1/3 for each of the biased coin flip probabilities [0.01, 0.1, 0.4].   \n",
    "\n",
    "(Hint: You may have to toss the biased coin multiple times to generate the equivalent of an unbiased ‘toss’. The code is simple so if you are writing too much of code, probably you are doing it wrong!)"
   ]
  },
  {
   "cell_type": "markdown",
   "metadata": {
    "id": "BACoCCFmur_g"
   },
   "source": [
    "[Your Answer here]\n",
    "### a.\n",
    "We can toss the coin twice and regard it as one toss. Using 1 to represent the Heads, and using 0 to represent the Tails. If we get {0,1}, we can think we get a head using a unbiased coin whose probability of heads is 1 in 2. If we get {1,0}, we think we get a tail using a unbiased coin whose probability of heads is 1 in 2. If we get {1,1} or {0,0}, we should toss the coin twice again. In this way, we can use a biased coin to simulate generation of samples from the equivalent to the unbiased coin whose probability of giving heads is 1 in 2.\n",
    "As for p = 1/3, since we already using the biased coin simulate the unbiased coin whose p = 1/2, we can continue doing in this way. We can toss the unbiased coin twice, which means we toss the biased coin fourth(It could be more since we need to toss again if we get {1,1} or {0,0}). If we get {1,1}, we regard it as A. If we get {1,0}, we regard it as B. If we get {0,1}, we regard it as C. If we get {0,0}， we toss the unbiased coin again until we get A, B or C. In that case, P(A)=P(B)=P(C)=1/3, we regard A as heads, B and C as tails, then we get the unbiased coin whose p of giving heads is 1 in 3."
   ]
  },
  {
   "cell_type": "code",
   "execution_count": 2,
   "metadata": {
    "id": "MLgiYRvRur_h"
   },
   "outputs": [
    {
     "name": "stdout",
     "output_type": "stream",
     "text": [
      "samples for prob 1/2:\n",
      "[0, 1, 0, 1, 0, 0, 1, 0, 1, 1]\n",
      "[0, 0, 0, 0, 0, 0, 1, 1, 0, 0]\n",
      "[0, 1, 0, 0, 1, 1, 0, 1, 0, 0]\n",
      "samples for prob 1/3:\n",
      "[0, 0, 0, 1, 0, 0, 0, 0, 0, 1]\n",
      "[1, 0, 0, 1, 1, 0, 0, 1, 0, 0]\n",
      "[0, 0, 0, 1, 0, 1, 0, 1, 0, 0]\n"
     ]
    }
   ],
   "source": [
    "# CODE and result\n",
    "import numpy as np\n",
    "def Generatecoin(p):\n",
    "    i=0\n",
    "    r=7\n",
    "    while i!=1:\n",
    "        toss1=np.random.binomial(1,p,2)\n",
    "        toss=[]\n",
    "        for i in toss1:\n",
    "            toss+=[i]\n",
    "        if toss==[0,1]:\n",
    "            r=1\n",
    "            i=1\n",
    "        elif toss==[1,0]:\n",
    "            r=0\n",
    "            i=1\n",
    "        else:\n",
    "            i=0\n",
    "    return r\n",
    "\n",
    "def coin1in2(p):\n",
    "    sample=[]\n",
    "    i=0\n",
    "    while i<10: \n",
    "        r=Generatecoin(p)\n",
    "        sample+=[r]\n",
    "        i=i+1\n",
    "    return sample\n",
    "\n",
    "def coin1in3(p):\n",
    "    sample=[]\n",
    "    subsample=[]\n",
    "    i=0\n",
    "    while i<10:\n",
    "        subsample=coin1in2(p)\n",
    "        if subsample[0:2]==[1,1]:\n",
    "            x='A'\n",
    "            sample+=[x]\n",
    "            i=i+1\n",
    "        elif subsample[0:2]==[1,0]:\n",
    "            x='B'\n",
    "            sample+=[x]\n",
    "            i=i+1\n",
    "        elif subsample[0:2]==[0,1]:\n",
    "            x='C'\n",
    "            sample+=[x]\n",
    "            i=i+1\n",
    "        else:\n",
    "            i=i\n",
    "    for i in range(len(sample)):\n",
    "        if sample[i]=='A':\n",
    "            sample[i]=1\n",
    "        elif sample[i]=='B' or sample[i] =='C':\n",
    "            sample[i]=0\n",
    "    return sample\n",
    "\n",
    "plist=[0.01, 0.1, 0.4]\n",
    "print(\"samples for prob 1/2:\")\n",
    "for i in plist:\n",
    "    a=coin1in2(i)\n",
    "    print(a)\n",
    "print(\"samples for prob 1/3:\")\n",
    "for i in plist:\n",
    "    b=coin1in3(i)\n",
    "    print(b)\n",
    "    "
   ]
  },
  {
   "cell_type": "code",
   "execution_count": null,
   "metadata": {},
   "outputs": [],
   "source": []
  }
 ],
 "metadata": {
  "colab": {
   "name": "csci5512s21_hw1.ipynb",
   "provenance": []
  },
  "kernelspec": {
   "display_name": "Python 3",
   "language": "python",
   "name": "python3"
  },
  "language_info": {
   "codemirror_mode": {
    "name": "ipython",
    "version": 3
   },
   "file_extension": ".py",
   "mimetype": "text/x-python",
   "name": "python",
   "nbconvert_exporter": "python",
   "pygments_lexer": "ipython3",
   "version": "3.7.1"
  }
 },
 "nbformat": 4,
 "nbformat_minor": 1
}
